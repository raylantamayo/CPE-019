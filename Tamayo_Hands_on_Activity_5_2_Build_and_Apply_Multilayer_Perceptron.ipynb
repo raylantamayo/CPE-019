{
  "nbformat": 4,
  "nbformat_minor": 0,
  "metadata": {
    "colab": {
      "provenance": []
    },
    "kernelspec": {
      "name": "python3",
      "display_name": "Python 3"
    },
    "language_info": {
      "name": "python"
    }
  },
  "cells": [
    {
      "cell_type": "markdown",
      "source": [
        "**Name:** Tamayo, Ray Lan A.<br>\n",
        "**Course and Section:** CPE019-CPE32S9 <br>\n",
        "**Date Submission:** 03/20/2024 <br>\n",
        "**Instructor:** Engr. Roman Richard <br>"
      ],
      "metadata": {
        "id": "gteHz1GMcVuZ"
      }
    },
    {
      "cell_type": "markdown",
      "source": [
        "In this assignment, you are task to build a multilayer perceptron model. The following are the requirements:\n",
        "\n"
      ],
      "metadata": {
        "id": "t_jNmtozdPU_"
      }
    },
    {
      "cell_type": "markdown",
      "source": [
        "# **Choose any dataset**  \n",
        "* **Diabetes Dataset**"
      ],
      "metadata": {
        "id": "_WCvFMq_gwag"
      }
    },
    {
      "cell_type": "markdown",
      "source": [
        "# **Explain the problem you are trying to solve**\n",
        "\n",
        "* This dataset is originally from the National Institute of Diabetes and Digestive and Kidney Diseases. The objective is to predict based on diagnostic measurements whether a patient has diabetes."
      ],
      "metadata": {
        "id": "If4wR0ZpnysX"
      }
    },
    {
      "cell_type": "markdown",
      "source": [
        "# **Create your own model**\n",
        "**Importing Libraries**"
      ],
      "metadata": {
        "id": "6M0yfEzGoQDF"
      }
    },
    {
      "cell_type": "code",
      "source": [
        "# Importing Libraries\n",
        "\n",
        "import pandas as pd\n",
        "import numpy as np\n",
        "from sklearn.metrics import classification_report, confusion_matrix\n",
        "from sklearn.model_selection import train_test_split\n",
        "from sklearn.neural_network import MLPClassifier"
      ],
      "metadata": {
        "id": "rvzIeVyqg7pd"
      },
      "execution_count": 53,
      "outputs": []
    },
    {
      "cell_type": "markdown",
      "source": [
        "\n",
        "**Loading Data**"
      ],
      "metadata": {
        "id": "wcal2L2lgqED"
      }
    },
    {
      "cell_type": "code",
      "source": [
        "# Load the Data\n",
        "\n",
        "dbts = pd.read_csv('/content/diabetes.csv')\n",
        "print(dbts.head())\n",
        "\n",
        "unique_outcomes = dbts['Outcome'].unique()\n",
        "print(unique_outcomes)"
      ],
      "metadata": {
        "colab": {
          "base_uri": "https://localhost:8080/",
          "height": 0
        },
        "id": "1O2H8PcufimI",
        "outputId": "abfcf8d8-bf08-4d80-f1f8-c3452c320006"
      },
      "execution_count": 58,
      "outputs": [
        {
          "output_type": "stream",
          "name": "stdout",
          "text": [
            "   Pregnancies  Glucose  BloodPressure  SkinThickness  Insulin   BMI  \\\n",
            "0            6      148             72             35        0  33.6   \n",
            "1            1       85             66             29        0  26.6   \n",
            "2            8      183             64              0        0  23.3   \n",
            "3            1       89             66             23       94  28.1   \n",
            "4            0      137             40             35      168  43.1   \n",
            "\n",
            "   DiabetesPedigreeFunction  Age  Outcome  \n",
            "0                     0.627   50        1  \n",
            "1                     0.351   31        0  \n",
            "2                     0.672   32        1  \n",
            "3                     0.167   21        0  \n",
            "4                     2.288   33        1  \n",
            "[1 0]\n"
          ]
        }
      ]
    },
    {
      "cell_type": "markdown",
      "source": [
        "* <p align=\"justify\"> The dataset consists of various health-related measurements for individuals, with the 'Outcome' column indicating whether each person has diabetes or not."
      ],
      "metadata": {
        "id": "v2IWPjnMqWhh"
      }
    },
    {
      "cell_type": "code",
      "source": [
        "# Show the row and columns\n",
        "\n",
        "shape_of_dbts = dbts.shape\n",
        "print(shape_of_dbts)"
      ],
      "metadata": {
        "colab": {
          "base_uri": "https://localhost:8080/",
          "height": 0
        },
        "id": "jpK81jRalp4X",
        "outputId": "4c8e5bd2-3fd9-4c81-c6f7-49acb6e4094b"
      },
      "execution_count": 57,
      "outputs": [
        {
          "output_type": "stream",
          "name": "stdout",
          "text": [
            "(768, 9)\n"
          ]
        }
      ]
    },
    {
      "cell_type": "markdown",
      "source": [
        "* The dataset contains records for 768 individuals, each described by 9 different health-related attributes."
      ],
      "metadata": {
        "id": "_kVHKYjZqwMM"
      }
    },
    {
      "cell_type": "code",
      "source": [
        "# Summary statistics function\n",
        "\n",
        "description_of_dbts = dbts.describe()\n",
        "print(description_of_dbts)"
      ],
      "metadata": {
        "colab": {
          "base_uri": "https://localhost:8080/",
          "height": 0
        },
        "id": "8NkIlqRulvjC",
        "outputId": "5e8f0752-cf99-4502-a0fa-fbb123cfcb56"
      },
      "execution_count": 59,
      "outputs": [
        {
          "output_type": "stream",
          "name": "stdout",
          "text": [
            "       Pregnancies     Glucose  BloodPressure  SkinThickness     Insulin  \\\n",
            "count   768.000000  768.000000     768.000000     768.000000  768.000000   \n",
            "mean      3.845052  120.894531      69.105469      20.536458   79.799479   \n",
            "std       3.369578   31.972618      19.355807      15.952218  115.244002   \n",
            "min       0.000000    0.000000       0.000000       0.000000    0.000000   \n",
            "25%       1.000000   99.000000      62.000000       0.000000    0.000000   \n",
            "50%       3.000000  117.000000      72.000000      23.000000   30.500000   \n",
            "75%       6.000000  140.250000      80.000000      32.000000  127.250000   \n",
            "max      17.000000  199.000000     122.000000      99.000000  846.000000   \n",
            "\n",
            "              BMI  DiabetesPedigreeFunction         Age     Outcome  \n",
            "count  768.000000                768.000000  768.000000  768.000000  \n",
            "mean    31.992578                  0.471876   33.240885    0.348958  \n",
            "std      7.884160                  0.331329   11.760232    0.476951  \n",
            "min      0.000000                  0.078000   21.000000    0.000000  \n",
            "25%     27.300000                  0.243750   24.000000    0.000000  \n",
            "50%     32.000000                  0.372500   29.000000    0.000000  \n",
            "75%     36.600000                  0.626250   41.000000    1.000000  \n",
            "max     67.100000                  2.420000   81.000000    1.000000  \n"
          ]
        }
      ]
    },
    {
      "cell_type": "markdown",
      "source": [
        "* <p align=\"justify\"> The descriptive statistics reveal that the dataset includes information about 768 individuals' health attributes, such as pregnancies, glucose levels, and blood pressure, with various measures of central tendency and dispersion."
      ],
      "metadata": {
        "id": "fP3oz5HGrGJ8"
      }
    },
    {
      "cell_type": "code",
      "source": [
        "# Separating features and target\n",
        "\n",
        "X = dbts.drop(columns='Outcome')\n",
        "y = dbts['Outcome']\n",
        "print(X.head(2))\n",
        "print(y.head(2))"
      ],
      "metadata": {
        "colab": {
          "base_uri": "https://localhost:8080/",
          "height": 0
        },
        "id": "dx6ATBesmCVN",
        "outputId": "2ac34746-099a-48da-d192-e6669ac9cd15"
      },
      "execution_count": 60,
      "outputs": [
        {
          "output_type": "stream",
          "name": "stdout",
          "text": [
            "   Pregnancies  Glucose  BloodPressure  SkinThickness  Insulin   BMI  \\\n",
            "0            6      148             72             35        0  33.6   \n",
            "1            1       85             66             29        0  26.6   \n",
            "\n",
            "   DiabetesPedigreeFunction  Age  \n",
            "0                     0.627   50  \n",
            "1                     0.351   31  \n",
            "0    1\n",
            "1    0\n",
            "Name: Outcome, dtype: int64\n"
          ]
        }
      ]
    },
    {
      "cell_type": "markdown",
      "source": [
        "* <p align=\"justify\"> The dataset is split into two parts: 'X' containing various health-related measurements for individuals, and 'y' representing whether each person has diabetes or not."
      ],
      "metadata": {
        "id": "_l8Zo5wWrdbJ"
      }
    },
    {
      "cell_type": "markdown",
      "source": [
        "**Spliting the Data**"
      ],
      "metadata": {
        "id": "qpokXSwGnJ09"
      }
    },
    {
      "cell_type": "code",
      "source": [
        "# Splitting data for modeling\n",
        "\n",
        "X_train, X_test, y_train, y_test = train_test_split(X, y, test_size=0.3)\n",
        "print(\"Shape of X_train:\", X_train.shape)\n",
        "print(\"Shape of X_test:\", X_test.shape)"
      ],
      "metadata": {
        "colab": {
          "base_uri": "https://localhost:8080/",
          "height": 0
        },
        "id": "vOGlsjc6nNy9",
        "outputId": "db2bdd36-3e9f-4e42-fc8d-f8d027050254"
      },
      "execution_count": 61,
      "outputs": [
        {
          "output_type": "stream",
          "name": "stdout",
          "text": [
            "Shape of X_train: (537, 8)\n",
            "Shape of X_test: (231, 8)\n"
          ]
        }
      ]
    },
    {
      "cell_type": "markdown",
      "source": [
        "* <p align=\"justify\"> The dataset is divided into training and testing sets, with 537 samples in the training set and 231 samples in the testing set, each containing 8 features."
      ],
      "metadata": {
        "id": "m25CYRYkr1FY"
      }
    },
    {
      "cell_type": "markdown",
      "source": [
        "**Training the Model**"
      ],
      "metadata": {
        "id": "-f177rqPnbZr"
      }
    },
    {
      "cell_type": "code",
      "source": [
        "# MLP Classifier configuration\n",
        "\n",
        "mlp = MLPClassifier()\n",
        "mlp.hidden_layer_sizes = (3, 2)\n",
        "mlp.max_iter = 500\n",
        "mlp.activation = 'relu'"
      ],
      "metadata": {
        "id": "oA6Uz3OrnfCx"
      },
      "execution_count": 62,
      "outputs": []
    },
    {
      "cell_type": "markdown",
      "source": [
        "* <p align=\"justify\"> The MLP classifier is configured to have two hidden layers with 3 and 2 neurons respectively, allowing up to 500 iterations for training, and using the ReLU activation function."
      ],
      "metadata": {
        "id": "GjU9ddWFtrQu"
      }
    },
    {
      "cell_type": "code",
      "source": [
        "# Training MLP model\n",
        "\n",
        "mlp = MLPClassifier().fit(X_train, y_train)"
      ],
      "metadata": {
        "id": "XlRGqTefnrWB"
      },
      "execution_count": 63,
      "outputs": []
    },
    {
      "cell_type": "markdown",
      "source": [
        "* <p align=\"justify\"> The MLP classifier is being trained on the training data to learn patterns between the input features (X_train) and their corresponding target labels (y_train)."
      ],
      "metadata": {
        "id": "3s5zqeewtw32"
      }
    },
    {
      "cell_type": "markdown",
      "source": [
        "**Testing**"
      ],
      "metadata": {
        "id": "7a9WMjHAowBj"
      }
    },
    {
      "cell_type": "code",
      "source": [
        "# Making test predictions\n",
        "\n",
        "pred = mlp.predict(X_test)\n",
        "print(pred)"
      ],
      "metadata": {
        "colab": {
          "base_uri": "https://localhost:8080/",
          "height": 0
        },
        "id": "9IXMPG-ho-u4",
        "outputId": "79bd7019-ebc1-43ff-b871-ccc50a1f4ccd"
      },
      "execution_count": 64,
      "outputs": [
        {
          "output_type": "stream",
          "name": "stdout",
          "text": [
            "[0 0 0 0 1 0 1 1 0 0 0 1 0 0 0 0 1 1 0 0 0 0 1 1 0 0 0 1 0 0 0 0 0 0 0 1 0\n",
            " 0 0 0 0 0 0 0 0 0 0 0 0 0 0 0 0 0 0 1 0 0 0 0 1 0 1 1 1 1 0 1 0 1 0 0 1 0\n",
            " 1 0 0 0 1 1 1 0 0 1 1 1 0 0 0 0 0 0 0 1 1 0 0 0 1 1 0 0 0 0 0 1 1 0 0 0 0\n",
            " 0 1 1 0 0 0 0 0 0 0 1 0 1 0 1 0 0 1 0 0 1 0 0 0 0 0 0 1 1 0 0 0 1 1 1 0 1\n",
            " 1 0 0 0 0 1 1 0 0 1 0 0 0 1 0 0 0 0 1 0 1 0 0 1 1 0 1 0 0 0 0 1 0 0 1 0 0\n",
            " 0 0 0 0 0 1 0 0 1 0 0 0 0 0 0 0 0 0 0 0 1 0 1 0 0 1 0 0 1 0 1 1 0 0 0 1 0\n",
            " 0 0 0 1 1 1 0 1 1]\n"
          ]
        }
      ]
    },
    {
      "cell_type": "markdown",
      "source": [
        "* <p align=\"justify\"> The model has made predictions on the test data, indicating whether each instance is classified as having diabetes (1) or not having diabetes (0) based on the learned patterns from the training data."
      ],
      "metadata": {
        "id": "a_gXPYnjt-l-"
      }
    },
    {
      "cell_type": "markdown",
      "source": [
        "# **Evaluate the accuracy of your model**"
      ],
      "metadata": {
        "id": "EMWFfne5pLFl"
      }
    },
    {
      "cell_type": "code",
      "source": [
        "# Computing confusion matrix\n",
        "\n",
        "conf_matrix = confusion_matrix(y_test, pred)\n",
        "print(conf_matrix)"
      ],
      "metadata": {
        "colab": {
          "base_uri": "https://localhost:8080/",
          "height": 0
        },
        "id": "7FZI9YnvpTQc",
        "outputId": "10985a85-72e1-453f-8c92-d2a8a8b59b6c"
      },
      "execution_count": 67,
      "outputs": [
        {
          "output_type": "stream",
          "name": "stdout",
          "text": [
            "[[120  25]\n",
            " [ 40  46]]\n"
          ]
        }
      ]
    },
    {
      "cell_type": "markdown",
      "source": [
        "* <p align=\"justify\"> The confusion matrix shows that 139 instances were correctly predicted as not having diabetes, 7 instances were correctly predicted as having diabetes, 83 instances were falsely predicted as not having diabetes, and 2 instances were falsely predicted as having diabetes."
      ],
      "metadata": {
        "id": "AqdaPP9BueJr"
      }
    },
    {
      "cell_type": "code",
      "source": [
        "# Model evaluation summary\n",
        "\n",
        "report = classification_report(y_test, pred)\n",
        "print(report)"
      ],
      "metadata": {
        "colab": {
          "base_uri": "https://localhost:8080/",
          "height": 0
        },
        "id": "HmCmK3EmpaR8",
        "outputId": "7e908fd0-936c-4dd0-90f6-5e38c7f275dd"
      },
      "execution_count": 68,
      "outputs": [
        {
          "output_type": "stream",
          "name": "stdout",
          "text": [
            "              precision    recall  f1-score   support\n",
            "\n",
            "           0       0.75      0.83      0.79       145\n",
            "           1       0.65      0.53      0.59        86\n",
            "\n",
            "    accuracy                           0.72       231\n",
            "   macro avg       0.70      0.68      0.69       231\n",
            "weighted avg       0.71      0.72      0.71       231\n",
            "\n"
          ]
        }
      ]
    },
    {
      "cell_type": "markdown",
      "source": [
        "* <p align=\"justify\"> Model's performance summary, indicating precision, recall, F1-score, and accuracy for predicting diabetes presence or absence, with higher values desired for better performance."
      ],
      "metadata": {
        "id": "AAMJs1jBvBsa"
      }
    },
    {
      "cell_type": "markdown",
      "source": [
        "# **Conclusion**\n",
        "\n",
        "* <p align=\"justify\">\n",
        "In this assignment, I developed a multilayer perceptron (MLP) model to tackle a specific problem. I chose the problem of predicting diabetes based on health-related measurements. By training the MLP model on a dataset containing various health metrics, I aimed to create a predictive tool that could help identify individuals at risk of diabetes. Evaluating the model's accuracy provided insights into its effectiveness in correctly classifying individuals as either having or not having diabetes, which is crucial for its practical applicability in healthcare scenarios.\n"
      ],
      "metadata": {
        "id": "Kink9qpfvEp4"
      }
    }
  ]
}